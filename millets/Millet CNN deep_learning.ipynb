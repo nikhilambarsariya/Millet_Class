{
 "cells": [
  {
   "cell_type": "code",
   "execution_count": null,
   "metadata": {
    "executionInfo": {
     "elapsed": 8695,
     "status": "ok",
     "timestamp": 1680613691458,
     "user": {
      "displayName": "Dr.Rajandeep Singh",
      "userId": "17632656582389372412"
     },
     "user_tz": -330
    },
    "id": "gAWkJjcXLiVD"
   },
   "outputs": [],
   "source": [
    "# Import necessary modules\n",
    "#!pip install tensorflow"
   ]
  },
  {
   "cell_type": "code",
   "execution_count": 1,
   "metadata": {},
   "outputs": [
    {
     "name": "stdout",
     "output_type": "stream",
     "text": [
      "2.6.0\n"
     ]
    }
   ],
   "source": [
    "import tensorflow as tf\n",
    "print(tf.__version__)"
   ]
  },
  {
   "cell_type": "code",
   "execution_count": 2,
   "metadata": {
    "executionInfo": {
     "elapsed": 4,
     "status": "ok",
     "timestamp": 1680613713188,
     "user": {
      "displayName": "Dr.Rajandeep Singh",
      "userId": "17632656582389372412"
     },
     "user_tz": -330
    },
    "id": "fcUCmpz2Oew4"
   },
   "outputs": [],
   "source": [
    "# Create an ImageDataGenerator for data augmentation and normalization\n",
    "from tensorflow.keras.preprocessing.image import ImageDataGenerator\n",
    "train_datagen = ImageDataGenerator(\n",
    "    rescale = 1./255, # Rescale pixel values between 0 and 1\n",
    "    shear_range = 0.2,\n",
    "    zoom_range = 0.2,\n",
    "    horizontal_flip = True\n",
    ")\n",
    "\n",
    "test_datagen = ImageDataGenerator(rescale = 1./255)"
   ]
  },
  {
   "cell_type": "code",
   "execution_count": 3,
   "metadata": {
    "executionInfo": {
     "elapsed": 5,
     "status": "ok",
     "timestamp": 1680613713189,
     "user": {
      "displayName": "Dr.Rajandeep Singh",
      "userId": "17632656582389372412"
     },
     "user_tz": -330
    },
    "id": "q0oc11anX7NZ"
   },
   "outputs": [],
   "source": [
    "train_dir = 'G:/millets/train'\n",
    "test_dir = 'G:/millets/test'"
   ]
  },
  {
   "cell_type": "code",
   "execution_count": 4,
   "metadata": {
    "colab": {
     "base_uri": "https://localhost:8080/"
    },
    "executionInfo": {
     "elapsed": 7778,
     "status": "ok",
     "timestamp": 1680613720962,
     "user": {
      "displayName": "Dr.Rajandeep Singh",
      "userId": "17632656582389372412"
     },
     "user_tz": -330
    },
    "id": "IElNcmejO-d0",
    "outputId": "e765825c-8c63-4ec9-e2c6-1400611eaa63"
   },
   "outputs": [
    {
     "name": "stdout",
     "output_type": "stream",
     "text": [
      "Found 3730 images belonging to 5 classes.\n",
      "Found 935 images belonging to 5 classes.\n"
     ]
    }
   ],
   "source": [
    "# Create training and testing ImageDataGenerators\n",
    "training_set = train_datagen.flow_from_directory(train_dir,\n",
    "                                                 target_size = (64, 64),\n",
    "                                                 batch_size = 32,\n",
    "                                                 class_mode = 'categorical')\n",
    "\n",
    "test_set = test_datagen.flow_from_directory(test_dir,\n",
    "                                            target_size = (64, 64),\n",
    "                                            batch_size = 32,\n",
    "                                            class_mode = 'categorical')\n",
    "\n"
   ]
  },
  {
   "cell_type": "code",
   "execution_count": 5,
   "metadata": {
    "executionInfo": {
     "elapsed": 3368,
     "status": "ok",
     "timestamp": 1680613724328,
     "user": {
      "displayName": "Dr.Rajandeep Singh",
      "userId": "17632656582389372412"
     },
     "user_tz": -330
    },
    "id": "QRItP_B2PArO"
   },
   "outputs": [],
   "source": [
    "# Define the CNN model architecture\n",
    "model = tf.keras.models.Sequential([\n",
    "    tf.keras.layers.Conv2D(32, (3, 3), activation='relu', input_shape=(64, 64, 3)),\n",
    "    tf.keras.layers.MaxPooling2D(2, 2),\n",
    "    tf.keras.layers.Conv2D(64, (3, 3), activation='relu'),\n",
    "    tf.keras.layers.MaxPooling2D(2, 2),\n",
    "    tf.keras.layers.Conv2D(128, (3, 3), activation='relu'),\n",
    "    tf.keras.layers.MaxPooling2D(2, 2),\n",
    "    tf.keras.layers.Flatten(),\n",
    "    tf.keras.layers.Dense(128, activation='relu'),\n",
    "    tf.keras.layers.Dropout(0.5),\n",
    "    tf.keras.layers.Dense(5, activation='softmax')\n",
    "])"
   ]
  },
  {
   "cell_type": "code",
   "execution_count": 6,
   "metadata": {
    "executionInfo": {
     "elapsed": 5,
     "status": "ok",
     "timestamp": 1680613724328,
     "user": {
      "displayName": "Dr.Rajandeep Singh",
      "userId": "17632656582389372412"
     },
     "user_tz": -330
    },
    "id": "8tu2gJWSPCo_"
   },
   "outputs": [],
   "source": [
    "# Compile the model\n",
    "#model.compile(optimizer='adam', loss='categorical_crossentropy', metrics=['accuracy'])"
   ]
  },
  {
   "cell_type": "code",
   "execution_count": 7,
   "metadata": {
    "colab": {
     "base_uri": "https://localhost:8080/"
    },
    "executionInfo": {
     "elapsed": 1362,
     "status": "ok",
     "timestamp": 1680615614823,
     "user": {
      "displayName": "Dr.Rajandeep Singh",
      "userId": "17632656582389372412"
     },
     "user_tz": -330
    },
    "id": "zdXdjmMYfMQX",
    "outputId": "b15ef7fb-842a-43b8-fbed-f7706f6ba730"
   },
   "outputs": [],
   "source": [
    "from tensorflow.keras.optimizers import Adam\n",
    "model.compile(optimizer=Adam(learning_rate=0.001), loss='categorical_crossentropy', metrics=['accuracy'])"
   ]
  },
  {
   "cell_type": "code",
   "execution_count": 8,
   "metadata": {},
   "outputs": [
    {
     "name": "stdout",
     "output_type": "stream",
     "text": [
      "[name: \"/device:CPU:0\"\n",
      "device_type: \"CPU\"\n",
      "memory_limit: 268435456\n",
      "locality {\n",
      "}\n",
      "incarnation: 13680681017533972670\n",
      ", name: \"/device:GPU:0\"\n",
      "device_type: \"GPU\"\n",
      "memory_limit: 4169138176\n",
      "locality {\n",
      "  bus_id: 1\n",
      "  links {\n",
      "  }\n",
      "}\n",
      "incarnation: 1257859606019430808\n",
      "physical_device_desc: \"device: 0, name: NVIDIA GeForce GTX 1660, pci bus id: 0000:26:00.0, compute capability: 7.5\"\n",
      "]\n"
     ]
    }
   ],
   "source": [
    "from tensorflow.python.client import device_lib\n",
    "print(device_lib.list_local_devices())"
   ]
  },
  {
   "cell_type": "code",
   "execution_count": 9,
   "metadata": {
    "colab": {
     "base_uri": "https://localhost:8080/"
    },
    "id": "Khqdaws1PEA_",
    "outputId": "c8f4604f-0376-48f9-d075-b30b1eccc097"
   },
   "outputs": [
    {
     "name": "stdout",
     "output_type": "stream",
     "text": [
      "Epoch 1/200\n",
      "117/117 [==============================] - 12s 59ms/step - loss: 0.6942 - accuracy: 0.7161 - val_loss: 0.5300 - val_accuracy: 0.7818\n",
      "Epoch 2/200\n",
      "117/117 [==============================] - 6s 54ms/step - loss: 0.4232 - accuracy: 0.8365 - val_loss: 0.2354 - val_accuracy: 0.9390\n",
      "Epoch 3/200\n",
      "117/117 [==============================] - 6s 53ms/step - loss: 0.3163 - accuracy: 0.8890 - val_loss: 0.1761 - val_accuracy: 0.9444\n",
      "Epoch 4/200\n",
      "117/117 [==============================] - 6s 54ms/step - loss: 0.2414 - accuracy: 0.9209 - val_loss: 0.1170 - val_accuracy: 0.9626\n",
      "Epoch 5/200\n",
      "117/117 [==============================] - 6s 53ms/step - loss: 0.2081 - accuracy: 0.9335 - val_loss: 0.2606 - val_accuracy: 0.8781\n",
      "Epoch 6/200\n",
      "117/117 [==============================] - 6s 54ms/step - loss: 0.1974 - accuracy: 0.9359 - val_loss: 0.0839 - val_accuracy: 0.9829\n",
      "Epoch 7/200\n",
      "117/117 [==============================] - 6s 53ms/step - loss: 0.1942 - accuracy: 0.9381 - val_loss: 0.1036 - val_accuracy: 0.9679\n",
      "Epoch 8/200\n",
      "117/117 [==============================] - 7s 56ms/step - loss: 0.1538 - accuracy: 0.9515 - val_loss: 0.1393 - val_accuracy: 0.9540\n",
      "Epoch 9/200\n",
      "117/117 [==============================] - 6s 53ms/step - loss: 0.1525 - accuracy: 0.9499 - val_loss: 0.0668 - val_accuracy: 0.9786\n",
      "Epoch 10/200\n",
      "117/117 [==============================] - 6s 55ms/step - loss: 0.1376 - accuracy: 0.9576 - val_loss: 0.1275 - val_accuracy: 0.9583\n",
      "Epoch 11/200\n",
      "117/117 [==============================] - 6s 53ms/step - loss: 0.1275 - accuracy: 0.9638 - val_loss: 0.0584 - val_accuracy: 0.9797\n",
      "Epoch 12/200\n",
      "117/117 [==============================] - 6s 55ms/step - loss: 0.1072 - accuracy: 0.9660 - val_loss: 0.1088 - val_accuracy: 0.9668\n",
      "Epoch 13/200\n",
      "117/117 [==============================] - 6s 54ms/step - loss: 0.1145 - accuracy: 0.9649 - val_loss: 0.0710 - val_accuracy: 0.9775\n",
      "Epoch 14/200\n",
      "117/117 [==============================] - 6s 54ms/step - loss: 0.1083 - accuracy: 0.9689 - val_loss: 0.0556 - val_accuracy: 0.9829\n",
      "Epoch 15/200\n",
      "117/117 [==============================] - 6s 53ms/step - loss: 0.1071 - accuracy: 0.9718 - val_loss: 0.0563 - val_accuracy: 0.9807\n",
      "Epoch 16/200\n",
      "117/117 [==============================] - 6s 53ms/step - loss: 0.1224 - accuracy: 0.9619 - val_loss: 0.0454 - val_accuracy: 0.9882\n",
      "Epoch 17/200\n",
      "117/117 [==============================] - 6s 53ms/step - loss: 0.0822 - accuracy: 0.9740 - val_loss: 0.0412 - val_accuracy: 0.9872\n",
      "Epoch 18/200\n",
      "117/117 [==============================] - 7s 56ms/step - loss: 0.1189 - accuracy: 0.9686 - val_loss: 0.0489 - val_accuracy: 0.9829\n",
      "Epoch 19/200\n",
      "117/117 [==============================] - 6s 53ms/step - loss: 0.0938 - accuracy: 0.9740 - val_loss: 0.1075 - val_accuracy: 0.9690\n",
      "Epoch 20/200\n",
      "117/117 [==============================] - 7s 56ms/step - loss: 0.1085 - accuracy: 0.9697 - val_loss: 0.0467 - val_accuracy: 0.9904\n",
      "Epoch 21/200\n",
      "117/117 [==============================] - 6s 53ms/step - loss: 0.0887 - accuracy: 0.9710 - val_loss: 0.0859 - val_accuracy: 0.9604\n",
      "Epoch 22/200\n",
      "117/117 [==============================] - 6s 54ms/step - loss: 0.0863 - accuracy: 0.9777 - val_loss: 0.0549 - val_accuracy: 0.9797\n",
      "Epoch 23/200\n",
      "117/117 [==============================] - 6s 53ms/step - loss: 0.0697 - accuracy: 0.9818 - val_loss: 0.0373 - val_accuracy: 0.9882\n",
      "Epoch 24/200\n",
      "117/117 [==============================] - 6s 54ms/step - loss: 0.0803 - accuracy: 0.9756 - val_loss: 0.0549 - val_accuracy: 0.9861\n",
      "Epoch 25/200\n",
      "117/117 [==============================] - 6s 55ms/step - loss: 0.0566 - accuracy: 0.9839 - val_loss: 0.1005 - val_accuracy: 0.9711\n",
      "Epoch 26/200\n",
      "117/117 [==============================] - 7s 59ms/step - loss: 0.0950 - accuracy: 0.9729 - val_loss: 0.0682 - val_accuracy: 0.9807\n",
      "Epoch 27/200\n",
      "117/117 [==============================] - 7s 58ms/step - loss: 0.0605 - accuracy: 0.9847 - val_loss: 0.1711 - val_accuracy: 0.9444\n",
      "Epoch 28/200\n",
      "117/117 [==============================] - 7s 57ms/step - loss: 0.0792 - accuracy: 0.9772 - val_loss: 0.0504 - val_accuracy: 0.9818\n",
      "Epoch 29/200\n",
      "117/117 [==============================] - 6s 55ms/step - loss: 0.0769 - accuracy: 0.9737 - val_loss: 0.0583 - val_accuracy: 0.9797\n",
      "Epoch 30/200\n",
      "117/117 [==============================] - 7s 55ms/step - loss: 0.0635 - accuracy: 0.9796 - val_loss: 0.0337 - val_accuracy: 0.9947\n",
      "Epoch 31/200\n",
      "117/117 [==============================] - 6s 53ms/step - loss: 0.0455 - accuracy: 0.9861 - val_loss: 0.0503 - val_accuracy: 0.9882\n",
      "Epoch 32/200\n",
      "117/117 [==============================] - 6s 54ms/step - loss: 0.0499 - accuracy: 0.9853 - val_loss: 0.0421 - val_accuracy: 0.9914\n",
      "Epoch 33/200\n",
      "117/117 [==============================] - 6s 54ms/step - loss: 0.0653 - accuracy: 0.9836 - val_loss: 0.1404 - val_accuracy: 0.9615\n",
      "Epoch 34/200\n",
      "117/117 [==============================] - 7s 56ms/step - loss: 0.0685 - accuracy: 0.9799 - val_loss: 0.2872 - val_accuracy: 0.8963\n",
      "Epoch 35/200\n",
      "117/117 [==============================] - 6s 54ms/step - loss: 0.0538 - accuracy: 0.9834 - val_loss: 0.0372 - val_accuracy: 0.9904\n",
      "Epoch 36/200\n",
      "117/117 [==============================] - 7s 57ms/step - loss: 0.0650 - accuracy: 0.9796 - val_loss: 0.0795 - val_accuracy: 0.9722\n",
      "Epoch 37/200\n",
      "117/117 [==============================] - 6s 53ms/step - loss: 0.0581 - accuracy: 0.9831 - val_loss: 0.0430 - val_accuracy: 0.9882\n",
      "Epoch 38/200\n",
      "117/117 [==============================] - 6s 53ms/step - loss: 0.0547 - accuracy: 0.9858 - val_loss: 0.0398 - val_accuracy: 0.9893\n",
      "Epoch 39/200\n",
      "117/117 [==============================] - 6s 53ms/step - loss: 0.0526 - accuracy: 0.9828 - val_loss: 0.0323 - val_accuracy: 0.9904\n",
      "Epoch 40/200\n",
      "117/117 [==============================] - 6s 53ms/step - loss: 0.0490 - accuracy: 0.9855 - val_loss: 0.0469 - val_accuracy: 0.9850\n",
      "Epoch 41/200\n",
      "117/117 [==============================] - 6s 53ms/step - loss: 0.0539 - accuracy: 0.9831 - val_loss: 0.0356 - val_accuracy: 0.9872\n",
      "Epoch 42/200\n",
      "117/117 [==============================] - 7s 56ms/step - loss: 0.0392 - accuracy: 0.9877 - val_loss: 0.0574 - val_accuracy: 0.9840\n",
      "Epoch 43/200\n",
      "117/117 [==============================] - 6s 55ms/step - loss: 0.0492 - accuracy: 0.9863 - val_loss: 0.0448 - val_accuracy: 0.9872\n",
      "Epoch 44/200\n",
      "117/117 [==============================] - 7s 57ms/step - loss: 0.0416 - accuracy: 0.9885 - val_loss: 0.0457 - val_accuracy: 0.9872\n",
      "Epoch 45/200\n",
      "117/117 [==============================] - 7s 57ms/step - loss: 0.0455 - accuracy: 0.9858 - val_loss: 0.0757 - val_accuracy: 0.9840\n",
      "Epoch 46/200\n",
      "117/117 [==============================] - 7s 56ms/step - loss: 0.0413 - accuracy: 0.9874 - val_loss: 0.0419 - val_accuracy: 0.9882\n",
      "Epoch 47/200\n",
      "117/117 [==============================] - 6s 54ms/step - loss: 0.0344 - accuracy: 0.9898 - val_loss: 0.0608 - val_accuracy: 0.9840\n",
      "Epoch 48/200\n",
      "117/117 [==============================] - 6s 54ms/step - loss: 0.0327 - accuracy: 0.9912 - val_loss: 0.1439 - val_accuracy: 0.9743\n",
      "Epoch 49/200\n",
      "117/117 [==============================] - 6s 55ms/step - loss: 0.0740 - accuracy: 0.9769 - val_loss: 0.0448 - val_accuracy: 0.9893\n",
      "Epoch 50/200\n",
      "117/117 [==============================] - 6s 54ms/step - loss: 0.0375 - accuracy: 0.9869 - val_loss: 0.0420 - val_accuracy: 0.9872\n",
      "Epoch 51/200\n",
      "117/117 [==============================] - 6s 53ms/step - loss: 0.0385 - accuracy: 0.9882 - val_loss: 0.0468 - val_accuracy: 0.9904\n",
      "Epoch 52/200\n",
      "117/117 [==============================] - 6s 55ms/step - loss: 0.0259 - accuracy: 0.9912 - val_loss: 0.0716 - val_accuracy: 0.9818\n",
      "Epoch 53/200\n",
      "117/117 [==============================] - 6s 54ms/step - loss: 0.0295 - accuracy: 0.9920 - val_loss: 0.0852 - val_accuracy: 0.9701\n",
      "Epoch 54/200\n",
      "117/117 [==============================] - 7s 56ms/step - loss: 0.0631 - accuracy: 0.9775 - val_loss: 0.0493 - val_accuracy: 0.9840\n",
      "Epoch 55/200\n",
      "117/117 [==============================] - 6s 55ms/step - loss: 0.0293 - accuracy: 0.9920 - val_loss: 0.0354 - val_accuracy: 0.9925\n",
      "Epoch 56/200\n",
      "117/117 [==============================] - 7s 57ms/step - loss: 0.0285 - accuracy: 0.9906 - val_loss: 0.0992 - val_accuracy: 0.9647\n",
      "Epoch 57/200\n"
     ]
    },
    {
     "name": "stdout",
     "output_type": "stream",
     "text": [
      "117/117 [==============================] - 7s 56ms/step - loss: 0.0265 - accuracy: 0.9914 - val_loss: 0.0501 - val_accuracy: 0.9882\n",
      "Epoch 58/200\n",
      "117/117 [==============================] - 7s 58ms/step - loss: 0.0300 - accuracy: 0.9912 - val_loss: 0.0384 - val_accuracy: 0.9914\n",
      "Epoch 59/200\n",
      "117/117 [==============================] - 7s 56ms/step - loss: 0.0309 - accuracy: 0.9903 - val_loss: 0.0589 - val_accuracy: 0.9829\n",
      "Epoch 60/200\n",
      "117/117 [==============================] - 7s 58ms/step - loss: 0.0341 - accuracy: 0.9869 - val_loss: 0.1142 - val_accuracy: 0.9701\n",
      "Epoch 61/200\n",
      "117/117 [==============================] - 6s 55ms/step - loss: 0.0350 - accuracy: 0.9871 - val_loss: 0.0532 - val_accuracy: 0.9807\n",
      "Epoch 62/200\n",
      "117/117 [==============================] - 7s 57ms/step - loss: 0.0322 - accuracy: 0.9887 - val_loss: 0.0423 - val_accuracy: 0.9914\n",
      "Epoch 63/200\n",
      "117/117 [==============================] - 6s 55ms/step - loss: 0.0417 - accuracy: 0.9869 - val_loss: 0.0527 - val_accuracy: 0.9818\n",
      "Epoch 64/200\n",
      "117/117 [==============================] - 7s 56ms/step - loss: 0.0577 - accuracy: 0.9820 - val_loss: 0.1195 - val_accuracy: 0.9540\n",
      "Epoch 65/200\n",
      "117/117 [==============================] - 6s 55ms/step - loss: 0.0474 - accuracy: 0.9828 - val_loss: 0.0452 - val_accuracy: 0.9893\n",
      "Epoch 66/200\n",
      "117/117 [==============================] - 7s 58ms/step - loss: 0.0292 - accuracy: 0.9893 - val_loss: 0.0696 - val_accuracy: 0.9861\n",
      "Epoch 67/200\n",
      "117/117 [==============================] - 6s 55ms/step - loss: 0.0694 - accuracy: 0.9794 - val_loss: 0.0694 - val_accuracy: 0.9775\n",
      "Epoch 68/200\n",
      "117/117 [==============================] - 7s 56ms/step - loss: 0.0254 - accuracy: 0.9912 - val_loss: 0.0546 - val_accuracy: 0.9861\n",
      "Epoch 69/200\n",
      "117/117 [==============================] - 7s 56ms/step - loss: 0.0211 - accuracy: 0.9941 - val_loss: 0.0456 - val_accuracy: 0.9893\n",
      "Epoch 70/200\n",
      "117/117 [==============================] - 7s 57ms/step - loss: 0.0329 - accuracy: 0.9890 - val_loss: 0.0741 - val_accuracy: 0.9818\n",
      "Epoch 71/200\n",
      "117/117 [==============================] - 7s 56ms/step - loss: 0.0247 - accuracy: 0.9925 - val_loss: 0.0571 - val_accuracy: 0.9872\n",
      "Epoch 72/200\n",
      "117/117 [==============================] - 6s 54ms/step - loss: 0.0203 - accuracy: 0.9930 - val_loss: 0.0511 - val_accuracy: 0.9893\n",
      "Epoch 73/200\n",
      "117/117 [==============================] - 6s 52ms/step - loss: 0.0217 - accuracy: 0.9938 - val_loss: 0.0676 - val_accuracy: 0.9872\n",
      "Epoch 74/200\n",
      "117/117 [==============================] - 6s 53ms/step - loss: 0.0245 - accuracy: 0.9928 - val_loss: 0.0582 - val_accuracy: 0.9882\n",
      "Epoch 75/200\n",
      "117/117 [==============================] - 6s 52ms/step - loss: 0.0186 - accuracy: 0.9941 - val_loss: 0.0642 - val_accuracy: 0.9861\n",
      "Epoch 76/200\n",
      "117/117 [==============================] - 6s 53ms/step - loss: 0.0315 - accuracy: 0.9914 - val_loss: 0.0875 - val_accuracy: 0.9743\n",
      "Epoch 77/200\n",
      "117/117 [==============================] - 6s 52ms/step - loss: 0.0375 - accuracy: 0.9874 - val_loss: 0.0512 - val_accuracy: 0.9872\n",
      "Epoch 78/200\n",
      "117/117 [==============================] - 6s 53ms/step - loss: 0.0150 - accuracy: 0.9960 - val_loss: 0.0485 - val_accuracy: 0.9914\n",
      "Epoch 79/200\n",
      "117/117 [==============================] - 6s 53ms/step - loss: 0.0397 - accuracy: 0.9871 - val_loss: 0.1282 - val_accuracy: 0.9829\n",
      "Epoch 80/200\n",
      "117/117 [==============================] - 6s 53ms/step - loss: 0.0139 - accuracy: 0.9957 - val_loss: 0.0905 - val_accuracy: 0.9807\n",
      "Epoch 81/200\n",
      "117/117 [==============================] - 6s 52ms/step - loss: 0.0247 - accuracy: 0.9930 - val_loss: 0.0685 - val_accuracy: 0.9829\n",
      "Epoch 82/200\n",
      "117/117 [==============================] - 6s 53ms/step - loss: 0.0221 - accuracy: 0.9922 - val_loss: 0.0844 - val_accuracy: 0.9775\n",
      "Epoch 83/200\n",
      "117/117 [==============================] - 6s 52ms/step - loss: 0.0286 - accuracy: 0.9898 - val_loss: 0.0672 - val_accuracy: 0.9872\n",
      "Epoch 84/200\n",
      "117/117 [==============================] - 6s 53ms/step - loss: 0.0231 - accuracy: 0.9928 - val_loss: 0.0634 - val_accuracy: 0.9882\n",
      "Epoch 85/200\n",
      "117/117 [==============================] - 6s 52ms/step - loss: 0.0212 - accuracy: 0.9920 - val_loss: 0.0562 - val_accuracy: 0.9882\n",
      "Epoch 86/200\n",
      "117/117 [==============================] - 6s 53ms/step - loss: 0.0154 - accuracy: 0.9949 - val_loss: 0.0743 - val_accuracy: 0.9850\n",
      "Epoch 87/200\n",
      "117/117 [==============================] - 6s 52ms/step - loss: 0.0324 - accuracy: 0.9917 - val_loss: 0.1431 - val_accuracy: 0.9636\n",
      "Epoch 88/200\n",
      "117/117 [==============================] - 6s 53ms/step - loss: 0.0264 - accuracy: 0.9938 - val_loss: 0.0609 - val_accuracy: 0.9861\n",
      "Epoch 89/200\n",
      "117/117 [==============================] - 6s 55ms/step - loss: 0.0183 - accuracy: 0.9944 - val_loss: 0.0630 - val_accuracy: 0.9872\n",
      "Epoch 90/200\n",
      "117/117 [==============================] - 6s 54ms/step - loss: 0.0083 - accuracy: 0.9973 - val_loss: 0.0653 - val_accuracy: 0.9872\n",
      "Epoch 91/200\n",
      "117/117 [==============================] - 6s 53ms/step - loss: 0.0584 - accuracy: 0.9831 - val_loss: 0.0742 - val_accuracy: 0.9818\n",
      "Epoch 92/200\n",
      "117/117 [==============================] - 6s 55ms/step - loss: 0.0205 - accuracy: 0.9922 - val_loss: 0.0461 - val_accuracy: 0.9904\n",
      "Epoch 93/200\n",
      "117/117 [==============================] - 6s 54ms/step - loss: 0.0409 - accuracy: 0.9887 - val_loss: 0.0454 - val_accuracy: 0.9893\n",
      "Epoch 94/200\n",
      "117/117 [==============================] - 6s 54ms/step - loss: 0.0161 - accuracy: 0.9954 - val_loss: 0.0532 - val_accuracy: 0.9882\n",
      "Epoch 95/200\n",
      "117/117 [==============================] - 6s 52ms/step - loss: 0.0088 - accuracy: 0.9968 - val_loss: 0.0630 - val_accuracy: 0.9872\n",
      "Epoch 96/200\n",
      "117/117 [==============================] - 6s 54ms/step - loss: 0.0149 - accuracy: 0.9946 - val_loss: 0.0637 - val_accuracy: 0.9861\n",
      "Epoch 97/200\n",
      "117/117 [==============================] - 6s 52ms/step - loss: 0.0137 - accuracy: 0.9941 - val_loss: 0.0467 - val_accuracy: 0.9840\n",
      "Epoch 98/200\n",
      "117/117 [==============================] - 6s 53ms/step - loss: 0.0306 - accuracy: 0.9914 - val_loss: 0.0680 - val_accuracy: 0.9829\n",
      "Epoch 99/200\n",
      "117/117 [==============================] - 6s 52ms/step - loss: 0.0361 - accuracy: 0.9912 - val_loss: 0.1269 - val_accuracy: 0.9754\n",
      "Epoch 100/200\n",
      "117/117 [==============================] - 6s 53ms/step - loss: 0.0163 - accuracy: 0.9957 - val_loss: 0.0495 - val_accuracy: 0.9882\n",
      "Epoch 101/200\n",
      "117/117 [==============================] - 6s 55ms/step - loss: 0.0106 - accuracy: 0.9965 - val_loss: 0.0639 - val_accuracy: 0.9893\n",
      "Epoch 102/200\n",
      "117/117 [==============================] - 6s 53ms/step - loss: 0.0132 - accuracy: 0.9952 - val_loss: 0.0746 - val_accuracy: 0.9850\n",
      "Epoch 103/200\n",
      "117/117 [==============================] - 6s 52ms/step - loss: 0.0262 - accuracy: 0.9906 - val_loss: 0.0791 - val_accuracy: 0.9775\n",
      "Epoch 104/200\n",
      "117/117 [==============================] - 6s 52ms/step - loss: 0.0225 - accuracy: 0.9944 - val_loss: 0.2231 - val_accuracy: 0.9765\n",
      "Epoch 105/200\n",
      "117/117 [==============================] - 6s 52ms/step - loss: 0.0311 - accuracy: 0.9914 - val_loss: 0.0674 - val_accuracy: 0.9882\n",
      "Epoch 106/200\n",
      "117/117 [==============================] - 6s 53ms/step - loss: 0.0170 - accuracy: 0.9941 - val_loss: 0.0875 - val_accuracy: 0.9861\n",
      "Epoch 107/200\n",
      "117/117 [==============================] - 6s 52ms/step - loss: 0.0269 - accuracy: 0.9928 - val_loss: 0.0479 - val_accuracy: 0.9882\n",
      "Epoch 108/200\n",
      "117/117 [==============================] - 6s 53ms/step - loss: 0.0225 - accuracy: 0.9912 - val_loss: 0.0632 - val_accuracy: 0.9872\n",
      "Epoch 109/200\n",
      "117/117 [==============================] - 6s 52ms/step - loss: 0.0197 - accuracy: 0.9941 - val_loss: 0.1048 - val_accuracy: 0.9786\n",
      "Epoch 110/200\n",
      "117/117 [==============================] - 6s 52ms/step - loss: 0.0295 - accuracy: 0.9903 - val_loss: 0.0588 - val_accuracy: 0.9861\n",
      "Epoch 111/200\n",
      "117/117 [==============================] - 6s 52ms/step - loss: 0.0197 - accuracy: 0.9946 - val_loss: 0.2321 - val_accuracy: 0.9444\n",
      "Epoch 112/200\n",
      "117/117 [==============================] - 6s 52ms/step - loss: 0.0349 - accuracy: 0.9898 - val_loss: 0.0503 - val_accuracy: 0.9882\n",
      "Epoch 113/200\n"
     ]
    },
    {
     "name": "stdout",
     "output_type": "stream",
     "text": [
      "117/117 [==============================] - 6s 52ms/step - loss: 0.0254 - accuracy: 0.9917 - val_loss: 0.0368 - val_accuracy: 0.9904\n",
      "Epoch 114/200\n",
      "117/117 [==============================] - 6s 53ms/step - loss: 0.0290 - accuracy: 0.9898 - val_loss: 0.0716 - val_accuracy: 0.9818\n",
      "Epoch 115/200\n",
      "117/117 [==============================] - 6s 52ms/step - loss: 0.0132 - accuracy: 0.9952 - val_loss: 0.0752 - val_accuracy: 0.9861\n",
      "Epoch 116/200\n",
      "117/117 [==============================] - 6s 53ms/step - loss: 0.0081 - accuracy: 0.9968 - val_loss: 0.0541 - val_accuracy: 0.9882\n",
      "Epoch 117/200\n",
      "117/117 [==============================] - 6s 53ms/step - loss: 0.0209 - accuracy: 0.9933 - val_loss: 0.0608 - val_accuracy: 0.9882\n",
      "Epoch 118/200\n",
      "117/117 [==============================] - 6s 53ms/step - loss: 0.0243 - accuracy: 0.9941 - val_loss: 0.0876 - val_accuracy: 0.9797\n",
      "Epoch 119/200\n",
      "117/117 [==============================] - 6s 52ms/step - loss: 0.0110 - accuracy: 0.9962 - val_loss: 0.1152 - val_accuracy: 0.9754\n",
      "Epoch 120/200\n",
      "117/117 [==============================] - 6s 52ms/step - loss: 0.0110 - accuracy: 0.9952 - val_loss: 0.0618 - val_accuracy: 0.9893\n",
      "Epoch 121/200\n",
      "117/117 [==============================] - 6s 52ms/step - loss: 0.0134 - accuracy: 0.9962 - val_loss: 0.0779 - val_accuracy: 0.9850\n",
      "Epoch 122/200\n",
      "117/117 [==============================] - 6s 52ms/step - loss: 0.0134 - accuracy: 0.9976 - val_loss: 0.0556 - val_accuracy: 0.9904\n",
      "Epoch 123/200\n",
      "117/117 [==============================] - 6s 52ms/step - loss: 0.0065 - accuracy: 0.9984 - val_loss: 0.0633 - val_accuracy: 0.9882\n",
      "Epoch 124/200\n",
      "117/117 [==============================] - 6s 52ms/step - loss: 0.0151 - accuracy: 0.9944 - val_loss: 0.0811 - val_accuracy: 0.9861\n",
      "Epoch 125/200\n",
      "117/117 [==============================] - 6s 52ms/step - loss: 0.0218 - accuracy: 0.9928 - val_loss: 0.0448 - val_accuracy: 0.9872\n",
      "Epoch 126/200\n",
      "117/117 [==============================] - 6s 52ms/step - loss: 0.0127 - accuracy: 0.9952 - val_loss: 0.0761 - val_accuracy: 0.9840\n",
      "Epoch 127/200\n",
      "117/117 [==============================] - 6s 52ms/step - loss: 0.0324 - accuracy: 0.9898 - val_loss: 0.0866 - val_accuracy: 0.9829\n",
      "Epoch 128/200\n",
      "117/117 [==============================] - 6s 53ms/step - loss: 0.0350 - accuracy: 0.9898 - val_loss: 0.0641 - val_accuracy: 0.9872\n",
      "Epoch 129/200\n",
      "117/117 [==============================] - 6s 52ms/step - loss: 0.0106 - accuracy: 0.9971 - val_loss: 0.0569 - val_accuracy: 0.9893\n",
      "Epoch 130/200\n",
      "117/117 [==============================] - 6s 53ms/step - loss: 0.0118 - accuracy: 0.9957 - val_loss: 0.0791 - val_accuracy: 0.9861\n",
      "Epoch 131/200\n",
      "117/117 [==============================] - 6s 53ms/step - loss: 0.0145 - accuracy: 0.9946 - val_loss: 0.0961 - val_accuracy: 0.9840\n",
      "Epoch 132/200\n",
      "117/117 [==============================] - 6s 54ms/step - loss: 0.0143 - accuracy: 0.9946 - val_loss: 0.0611 - val_accuracy: 0.9872\n",
      "Epoch 133/200\n",
      "117/117 [==============================] - 7s 56ms/step - loss: 0.0121 - accuracy: 0.9965 - val_loss: 0.0540 - val_accuracy: 0.9882\n",
      "Epoch 134/200\n",
      "117/117 [==============================] - 7s 57ms/step - loss: 0.0147 - accuracy: 0.9957 - val_loss: 0.0803 - val_accuracy: 0.9840\n",
      "Epoch 135/200\n",
      "117/117 [==============================] - 7s 56ms/step - loss: 0.0132 - accuracy: 0.9960 - val_loss: 0.0625 - val_accuracy: 0.9904\n",
      "Epoch 136/200\n",
      "117/117 [==============================] - 6s 53ms/step - loss: 0.0065 - accuracy: 0.9979 - val_loss: 0.0876 - val_accuracy: 0.9893\n",
      "Epoch 137/200\n",
      "117/117 [==============================] - 6s 54ms/step - loss: 0.0093 - accuracy: 0.9960 - val_loss: 0.1045 - val_accuracy: 0.9882\n",
      "Epoch 138/200\n",
      "117/117 [==============================] - 6s 53ms/step - loss: 0.0256 - accuracy: 0.9930 - val_loss: 0.0951 - val_accuracy: 0.9829\n",
      "Epoch 139/200\n",
      "117/117 [==============================] - 6s 53ms/step - loss: 0.0342 - accuracy: 0.9906 - val_loss: 0.1359 - val_accuracy: 0.9765\n",
      "Epoch 140/200\n",
      "117/117 [==============================] - 6s 52ms/step - loss: 0.0441 - accuracy: 0.9890 - val_loss: 0.0502 - val_accuracy: 0.9882\n",
      "Epoch 141/200\n",
      "117/117 [==============================] - 6s 52ms/step - loss: 0.0113 - accuracy: 0.9965 - val_loss: 0.0519 - val_accuracy: 0.9893\n",
      "Epoch 142/200\n",
      "117/117 [==============================] - 6s 53ms/step - loss: 0.0132 - accuracy: 0.9960 - val_loss: 0.0818 - val_accuracy: 0.9818\n",
      "Epoch 143/200\n",
      "117/117 [==============================] - 6s 53ms/step - loss: 0.0074 - accuracy: 0.9976 - val_loss: 0.0875 - val_accuracy: 0.9829\n",
      "Epoch 144/200\n",
      "117/117 [==============================] - 7s 55ms/step - loss: 0.0138 - accuracy: 0.9957 - val_loss: 0.1055 - val_accuracy: 0.9840\n",
      "Epoch 145/200\n",
      "117/117 [==============================] - 6s 53ms/step - loss: 0.0064 - accuracy: 0.9981 - val_loss: 0.0860 - val_accuracy: 0.9850\n",
      "Epoch 146/200\n",
      "117/117 [==============================] - 6s 53ms/step - loss: 0.0073 - accuracy: 0.9973 - val_loss: 0.0668 - val_accuracy: 0.9893\n",
      "Epoch 147/200\n",
      "117/117 [==============================] - 6s 53ms/step - loss: 0.0228 - accuracy: 0.9936 - val_loss: 0.0926 - val_accuracy: 0.9786\n",
      "Epoch 148/200\n",
      "117/117 [==============================] - 6s 54ms/step - loss: 0.0176 - accuracy: 0.9936 - val_loss: 0.1560 - val_accuracy: 0.9733\n",
      "Epoch 149/200\n",
      "117/117 [==============================] - 6s 53ms/step - loss: 0.0421 - accuracy: 0.9863 - val_loss: 0.0782 - val_accuracy: 0.9840\n",
      "Epoch 150/200\n",
      "117/117 [==============================] - 6s 53ms/step - loss: 0.0539 - accuracy: 0.9839 - val_loss: 0.0826 - val_accuracy: 0.9850\n",
      "Epoch 151/200\n",
      "117/117 [==============================] - 6s 55ms/step - loss: 0.0179 - accuracy: 0.9957 - val_loss: 0.0776 - val_accuracy: 0.9882\n",
      "Epoch 152/200\n",
      "117/117 [==============================] - 7s 57ms/step - loss: 0.0075 - accuracy: 0.9976 - val_loss: 0.0665 - val_accuracy: 0.9904\n",
      "Epoch 153/200\n",
      "117/117 [==============================] - 6s 55ms/step - loss: 0.0109 - accuracy: 0.9965 - val_loss: 0.0865 - val_accuracy: 0.9872\n",
      "Epoch 154/200\n",
      "117/117 [==============================] - 7s 56ms/step - loss: 0.0167 - accuracy: 0.9938 - val_loss: 0.1019 - val_accuracy: 0.9914\n",
      "Epoch 155/200\n",
      "117/117 [==============================] - 6s 53ms/step - loss: 0.0172 - accuracy: 0.9930 - val_loss: 0.0881 - val_accuracy: 0.9861\n",
      "Epoch 156/200\n",
      "117/117 [==============================] - 6s 53ms/step - loss: 0.0088 - accuracy: 0.9965 - val_loss: 0.0687 - val_accuracy: 0.9914\n",
      "Epoch 157/200\n",
      "117/117 [==============================] - 6s 53ms/step - loss: 0.0183 - accuracy: 0.9944 - val_loss: 0.1236 - val_accuracy: 0.9850\n",
      "Epoch 158/200\n",
      "117/117 [==============================] - 6s 54ms/step - loss: 0.0194 - accuracy: 0.9936 - val_loss: 0.0612 - val_accuracy: 0.9850\n",
      "Epoch 159/200\n",
      "117/117 [==============================] - 6s 54ms/step - loss: 0.0120 - accuracy: 0.9952 - val_loss: 0.0820 - val_accuracy: 0.9882\n",
      "Epoch 160/200\n",
      "117/117 [==============================] - 7s 57ms/step - loss: 0.0121 - accuracy: 0.9954 - val_loss: 0.0659 - val_accuracy: 0.9893\n",
      "Epoch 161/200\n",
      "117/117 [==============================] - 7s 57ms/step - loss: 0.0179 - accuracy: 0.9960 - val_loss: 0.0939 - val_accuracy: 0.9797\n",
      "Epoch 162/200\n",
      "117/117 [==============================] - 6s 54ms/step - loss: 0.0068 - accuracy: 0.9981 - val_loss: 0.0686 - val_accuracy: 0.9904\n",
      "Epoch 163/200\n",
      "117/117 [==============================] - 6s 53ms/step - loss: 0.0073 - accuracy: 0.9984 - val_loss: 0.0498 - val_accuracy: 0.9936\n",
      "Epoch 164/200\n",
      "117/117 [==============================] - 6s 54ms/step - loss: 0.0077 - accuracy: 0.9979 - val_loss: 0.0903 - val_accuracy: 0.9893\n",
      "Epoch 165/200\n",
      "117/117 [==============================] - 6s 55ms/step - loss: 0.0358 - accuracy: 0.9895 - val_loss: 0.0659 - val_accuracy: 0.9893\n",
      "Epoch 166/200\n",
      "117/117 [==============================] - 7s 56ms/step - loss: 0.0168 - accuracy: 0.9946 - val_loss: 0.0804 - val_accuracy: 0.9872\n",
      "Epoch 167/200\n",
      "117/117 [==============================] - 6s 55ms/step - loss: 0.0108 - accuracy: 0.9962 - val_loss: 0.0555 - val_accuracy: 0.9904\n",
      "Epoch 168/200\n",
      "117/117 [==============================] - 6s 53ms/step - loss: 0.0184 - accuracy: 0.9954 - val_loss: 0.0542 - val_accuracy: 0.9882\n",
      "Epoch 169/200\n"
     ]
    },
    {
     "name": "stdout",
     "output_type": "stream",
     "text": [
      "117/117 [==============================] - 6s 52ms/step - loss: 0.0172 - accuracy: 0.9952 - val_loss: 0.0940 - val_accuracy: 0.9829\n",
      "Epoch 170/200\n",
      "117/117 [==============================] - 6s 53ms/step - loss: 0.0068 - accuracy: 0.9971 - val_loss: 0.0975 - val_accuracy: 0.9882\n",
      "Epoch 171/200\n",
      "117/117 [==============================] - 6s 52ms/step - loss: 0.0118 - accuracy: 0.9957 - val_loss: 0.1122 - val_accuracy: 0.9861\n",
      "Epoch 172/200\n",
      "117/117 [==============================] - 6s 54ms/step - loss: 0.0123 - accuracy: 0.9949 - val_loss: 0.1030 - val_accuracy: 0.9872\n",
      "Epoch 173/200\n",
      "117/117 [==============================] - 6s 53ms/step - loss: 0.0332 - accuracy: 0.9893 - val_loss: 0.0874 - val_accuracy: 0.9861\n",
      "Epoch 174/200\n",
      "117/117 [==============================] - 6s 53ms/step - loss: 0.0139 - accuracy: 0.9944 - val_loss: 0.0957 - val_accuracy: 0.9882\n",
      "Epoch 175/200\n",
      "117/117 [==============================] - 6s 53ms/step - loss: 0.0070 - accuracy: 0.9979 - val_loss: 0.0704 - val_accuracy: 0.9872\n",
      "Epoch 176/200\n",
      "117/117 [==============================] - 7s 56ms/step - loss: 0.0053 - accuracy: 0.9987 - val_loss: 0.0644 - val_accuracy: 0.9893\n",
      "Epoch 177/200\n",
      "117/117 [==============================] - 7s 57ms/step - loss: 0.0025 - accuracy: 0.9995 - val_loss: 0.0785 - val_accuracy: 0.9882\n",
      "Epoch 178/200\n",
      "117/117 [==============================] - 7s 57ms/step - loss: 0.0074 - accuracy: 0.9973 - val_loss: 0.0947 - val_accuracy: 0.9904\n",
      "Epoch 179/200\n",
      "117/117 [==============================] - 6s 54ms/step - loss: 0.0064 - accuracy: 0.9976 - val_loss: 0.0886 - val_accuracy: 0.9904\n",
      "Epoch 180/200\n",
      "117/117 [==============================] - 6s 54ms/step - loss: 0.0129 - accuracy: 0.9957 - val_loss: 0.0815 - val_accuracy: 0.9882\n",
      "Epoch 181/200\n",
      "117/117 [==============================] - 7s 55ms/step - loss: 0.0120 - accuracy: 0.9949 - val_loss: 0.0746 - val_accuracy: 0.9861\n",
      "Epoch 182/200\n",
      "117/117 [==============================] - 6s 53ms/step - loss: 0.0129 - accuracy: 0.9957 - val_loss: 0.1396 - val_accuracy: 0.9861\n",
      "Epoch 183/200\n",
      "117/117 [==============================] - 6s 54ms/step - loss: 0.0177 - accuracy: 0.9930 - val_loss: 0.0769 - val_accuracy: 0.9904\n",
      "Epoch 184/200\n",
      "117/117 [==============================] - 6s 54ms/step - loss: 0.0158 - accuracy: 0.9946 - val_loss: 0.1438 - val_accuracy: 0.9829\n",
      "Epoch 185/200\n",
      "117/117 [==============================] - 6s 53ms/step - loss: 0.0366 - accuracy: 0.9909 - val_loss: 0.1113 - val_accuracy: 0.9786\n",
      "Epoch 186/200\n",
      "117/117 [==============================] - 6s 54ms/step - loss: 0.0102 - accuracy: 0.9962 - val_loss: 0.0606 - val_accuracy: 0.9893\n",
      "Epoch 187/200\n",
      "117/117 [==============================] - 6s 54ms/step - loss: 0.0254 - accuracy: 0.9941 - val_loss: 0.0632 - val_accuracy: 0.9882\n",
      "Epoch 188/200\n",
      "117/117 [==============================] - 6s 54ms/step - loss: 0.0087 - accuracy: 0.9979 - val_loss: 0.0574 - val_accuracy: 0.9925\n",
      "Epoch 189/200\n",
      "117/117 [==============================] - 6s 53ms/step - loss: 0.0076 - accuracy: 0.9962 - val_loss: 0.1080 - val_accuracy: 0.9786\n",
      "Epoch 190/200\n",
      "117/117 [==============================] - 6s 54ms/step - loss: 0.0078 - accuracy: 0.9979 - val_loss: 0.1089 - val_accuracy: 0.9786\n",
      "Epoch 191/200\n",
      "117/117 [==============================] - 6s 53ms/step - loss: 0.0057 - accuracy: 0.9973 - val_loss: 0.0556 - val_accuracy: 0.9904\n",
      "Epoch 192/200\n",
      "117/117 [==============================] - 6s 54ms/step - loss: 0.0059 - accuracy: 0.9984 - val_loss: 0.0507 - val_accuracy: 0.9904\n",
      "Epoch 193/200\n",
      "117/117 [==============================] - 6s 52ms/step - loss: 0.0068 - accuracy: 0.9979 - val_loss: 0.1213 - val_accuracy: 0.9775\n",
      "Epoch 194/200\n",
      "117/117 [==============================] - 6s 54ms/step - loss: 0.0057 - accuracy: 0.9984 - val_loss: 0.0693 - val_accuracy: 0.9893\n",
      "Epoch 195/200\n",
      "117/117 [==============================] - 6s 53ms/step - loss: 0.0149 - accuracy: 0.9962 - val_loss: 0.1113 - val_accuracy: 0.9861\n",
      "Epoch 196/200\n",
      "117/117 [==============================] - 6s 53ms/step - loss: 0.0346 - accuracy: 0.9906 - val_loss: 0.0703 - val_accuracy: 0.9850\n",
      "Epoch 197/200\n",
      "117/117 [==============================] - 6s 53ms/step - loss: 0.0038 - accuracy: 0.9987 - val_loss: 0.0706 - val_accuracy: 0.9882\n",
      "Epoch 198/200\n",
      "117/117 [==============================] - 6s 53ms/step - loss: 0.0029 - accuracy: 0.9987 - val_loss: 0.0777 - val_accuracy: 0.9882\n",
      "Epoch 199/200\n",
      "117/117 [==============================] - 6s 53ms/step - loss: 0.0048 - accuracy: 0.9984 - val_loss: 0.1140 - val_accuracy: 0.9882\n",
      "Epoch 200/200\n",
      "117/117 [==============================] - 6s 54ms/step - loss: 0.0078 - accuracy: 0.9973 - val_loss: 0.1763 - val_accuracy: 0.9850\n"
     ]
    }
   ],
   "source": [
    "# Train the model on the training data\n",
    "with tf.device('/device:GPU:0'):\n",
    "    history = model.fit(training_set, epochs=200, validation_data=test_set)"
   ]
  },
  {
   "cell_type": "code",
   "execution_count": 10,
   "metadata": {
    "executionInfo": {
     "elapsed": 10,
     "status": "aborted",
     "timestamp": 1680615525804,
     "user": {
      "displayName": "Dr.Rajandeep Singh",
      "userId": "17632656582389372412"
     },
     "user_tz": -330
    },
    "id": "7-o05i7xPFGQ"
   },
   "outputs": [
    {
     "name": "stdout",
     "output_type": "stream",
     "text": [
      "30/30 [==============================] - 1s 17ms/step - loss: 0.1763 - accuracy: 0.9850\n",
      "Test loss: 0.176272913813591\n",
      "Test accuracy: 0.9850267171859741\n"
     ]
    }
   ],
   "source": [
    "# Evaluate the model on the testing data\n",
    "test_loss, test_accuracy = model.evaluate(test_set)\n",
    "print('Test loss:', test_loss)\n",
    "print('Test accuracy:', test_accuracy)"
   ]
  },
  {
   "cell_type": "code",
   "execution_count": 11,
   "metadata": {},
   "outputs": [
    {
     "data": {
      "image/png": "[encoded data removed]",
      "text/plain": [
       "<Figure size 640x480 with 1 Axes>"
      ]
     },
     "metadata": {},
     "output_type": "display_data"
    },
    {
     "data": {
      "image/png": "[encoded data removed]",
      "text/plain": [
       "<Figure size 640x480 with 1 Axes>"
      ]
     },
     "metadata": {},
     "output_type": "display_data"
    }
   ],
   "source": [
    "# Plot training & validation accuracy values\n",
    "import matplotlib.pyplot as plt\n",
    "\n",
    "plt.plot(history.history['accuracy'])\n",
    "plt.plot(history.history['val_accuracy'])\n",
    "plt.title('Model accuracy')\n",
    "plt.ylabel('Accuracy')\n",
    "plt.xlabel('Epoch')\n",
    "plt.legend(['Train', 'Validation'], loc='upper left')\n",
    "plt.show()\n",
    "\n",
    "# Plot training & validation loss values\n",
    "plt.plot(history.history['loss'])\n",
    "plt.plot(history.history['val_loss'])\n",
    "plt.title('Model loss')\n",
    "plt.ylabel('Loss')\n",
    "plt.xlabel('Epoch')\n",
    "plt.legend(['Train', 'Validation'], loc='upper left')\n",
    "plt.show()\n"
   ]
  },
  {
   "cell_type": "code",
   "execution_count": 12,
   "metadata": {},
   "outputs": [
    {
     "name": "stdout",
     "output_type": "stream",
     "text": [
      "30/30 [==============================] - 1s 16ms/step - loss: 0.1763 - accuracy: 0.9850\n",
      "Test accuracy: 0.9850267171859741\n"
     ]
    }
   ],
   "source": [
    "test_loss, test_acc = model.evaluate(test_set)\n",
    "print('Test accuracy:', test_acc)"
   ]
  },
  {
   "cell_type": "code",
   "execution_count": 13,
   "metadata": {},
   "outputs": [
    {
     "name": "stdout",
     "output_type": "stream",
     "text": [
      "30/30 [==============================] - 1s 17ms/step - loss: 0.1763 - accuracy: 0.9850\n",
      "Test Loss: 0.18\n",
      "Test Accuracy: 0.99\n"
     ]
    }
   ],
   "source": [
    "# Evaluate the model\n",
    "loss, accuracy = model.evaluate(test_set)\n",
    "print(f\"Test Loss: {loss:.2f}\")\n",
    "print(f\"Test Accuracy: {accuracy:.2f}\")\n"
   ]
  },
  {
   "cell_type": "code",
   "execution_count": 14,
   "metadata": {},
   "outputs": [],
   "source": [
    "model.save('millets_cnn.h5')"
   ]
  },
  {
   "cell_type": "code",
   "execution_count": 17,
   "metadata": {},
   "outputs": [
    {
     "name": "stdout",
     "output_type": "stream",
     "text": [
      "Confusion Matrix:\n",
      "[[ 79  28  66  93]\n",
      " [ 25  14  28  40]\n",
      " [ 63  30  59  83]\n",
      " [103  29  77 118]]\n"
     ]
    }
   ],
   "source": [
    "\n",
    "# Compute evaluation metrics\n",
    "#y_true = test_generator.classes\n",
    "y_true = test_set.classes\n",
    "from sklearn.metrics import confusion_matrix, classification_report\n",
    "y_pred = model.predict(test_set)\n",
    "import numpy as np\n",
    "# Convert predicted probabilities to class labels\n",
    "y_pred = np.argmax(y_pred, axis=1)\n",
    "\n",
    "cm = confusion_matrix(y_true, y_pred)\n",
    "print(f\"Confusion Matrix:\\n{cm}\")\n",
    "\n"
   ]
  },
  {
   "cell_type": "code",
   "execution_count": null,
   "metadata": {},
   "outputs": [],
   "source": []
  },
  {
   "cell_type": "code",
   "execution_count": 18,
   "metadata": {},
   "outputs": [
    {
     "name": "stdout",
     "output_type": "stream",
     "text": [
      "Classification Report:\n",
      "              precision    recall  f1-score   support\n",
      "\n",
      "           0       0.29      0.30      0.29       266\n",
      "           1       0.14      0.13      0.13       107\n",
      "           2       0.26      0.25      0.25       235\n",
      "           4       0.35      0.36      0.36       327\n",
      "\n",
      "    accuracy                           0.29       935\n",
      "   macro avg       0.26      0.26      0.26       935\n",
      "weighted avg       0.29      0.29      0.29       935\n",
      "\n"
     ]
    }
   ],
   "source": [
    "cr = classification_report(y_true, y_pred)\n",
    "print(f\"Classification Report:\\n{cr}\")"
   ]
  },
  {
   "cell_type": "code",
   "execution_count": null,
   "metadata": {},
   "outputs": [],
   "source": [
    "\n",
    "# Compute Discriminant Power (DP)\n",
    "dp = abs(np.diff(np.sum(y_pred.reshape(-1, 2), axis=1)))\n",
    "print(f\"Discriminant Power (DP): {dp:.2f}\")\n",
    "\n"
   ]
  },
  {
   "cell_type": "code",
   "execution_count": null,
   "metadata": {},
   "outputs": [],
   "source": []
  },
  {
   "cell_type": "code",
   "execution_count": null,
   "metadata": {},
   "outputs": [],
   "source": []
  },
  {
   "cell_type": "code",
   "execution_count": null,
   "metadata": {},
   "outputs": [],
   "source": []
  },
  {
   "cell_type": "code",
   "execution_count": null,
   "metadata": {},
   "outputs": [],
   "source": [
    "# Compile the model\n",
    "#model.compile(optimizer='adam', loss='categorical_crossentropy', metrics=['accuracy'])\n",
    "\n",
    "# Train the model and save the training history in a variable\n",
    "#history = model.fit(training_set, epochs=10, validation_data=test_set)\n",
    "\n",
    "# Plot training & validation accuracy values\n",
    "#plt.plot(history.history['accuracy'])\n",
    "##plt.plot(history.history['val_accuracy'])\n",
    "#plt.title('Model accuracy')\n",
    "#plt.ylabel('Accuracy')\n",
    "#plt.xlabel('Epoch')\n",
    "#plt.legend(['Train', 'Validation'], loc='upper left')\n",
    "#plt.show()\n",
    "\n",
    "# Plot training & validation loss values\n",
    "#plt.plot(history.history['loss'])\n",
    "#plt.plot(history.history['val_loss'])\n",
    "#plt.title('Model loss')\n",
    "#plt.ylabel('Loss')\n",
    "#plt.xlabel('Epoch')\n",
    "#plt.legend(['Train', 'Validation'], loc='upper left')\n",
    "#plt.show()\n"
   ]
  },
  {
   "cell_type": "code",
   "execution_count": null,
   "metadata": {},
   "outputs": [],
   "source": []
  },
  {
   "cell_type": "code",
   "execution_count": null,
   "metadata": {},
   "outputs": [],
   "source": [
    "import matplotlib.pyplot as plt\n",
    "\n",
    "# Plot training & validation accuracy values\n",
    "#plt.plot(history.history['accuracy'])\n",
    "#plt.plot(history.history['val_accuracy'])\n",
    "#plt.title('Model accuracy')\n",
    "#plt.ylabel('Accuracy')\n",
    "#plt.xlabel('Epoch')\n",
    "#plt.legend(['Train', 'Validation'], loc='upper left')\n",
    "#plt.show()\n",
    "\n",
    "# Plot training & validation loss values\n",
    "#plt.plot(history.history['loss'])\n",
    "#plt.plot(history.history['val_loss'])\n",
    "#plt.title('Model loss')\n",
    "#plt.ylabel('Loss')\n",
    "#lt.xlabel('Epoch')\n",
    "#plt.legend(['Train', 'Validation'], loc='upper left')\n",
    "#plt.show()\n"
   ]
  },
  {
   "cell_type": "code",
   "execution_count": null,
   "metadata": {},
   "outputs": [],
   "source": []
  },
  {
   "cell_type": "code",
   "execution_count": null,
   "metadata": {},
   "outputs": [],
   "source": [
    "import matplotlib.pyplot as plt\n",
    "\n",
    "# Get training and validation loss histories\n",
    "train_loss = history.history['loss']\n",
    "val_loss = history.history['val_loss']\n",
    "\n",
    "# Create count of the number of epochs\n",
    "epoch_count = range(1, len(train_loss) + 1)\n",
    "\n",
    "# Visualize loss history\n",
    "plt.plot(epoch_count, train_loss, 'r--')\n",
    "plt.plot(epoch_count, val_loss, 'b-')\n",
    "plt.legend(['Training Loss', 'Validation Loss'])\n",
    "plt.xlabel('Epoch')\n",
    "plt.ylabel('Loss')\n",
    "plt.show()\n"
   ]
  },
  {
   "cell_type": "code",
   "execution_count": null,
   "metadata": {},
   "outputs": [],
   "source": [
    "import matplotlib.pyplot as plt\n",
    "\n",
    "# Get training and validation accuracy histories\n",
    "train_acc = history.history['accuracy']\n",
    "val_acc = history.history['val_accuracy']\n",
    "\n",
    "# Visualize accuracy history\n",
    "plt.plot(epoch_count, train_acc, 'r--')\n",
    "plt.plot(epoch_count, val_acc, 'b-')\n",
    "plt.legend(['Training Accuracy', 'Validation Accuracy'])\n",
    "plt.xlabel('Epoch')\n",
    "plt.ylabel('Accuracy')\n",
    "plt.show()\n"
   ]
  },
  {
   "cell_type": "code",
   "execution_count": null,
   "metadata": {},
   "outputs": [],
   "source": [
    "# Get predicted labels and true labels for validation set\n",
    "y_pred = model.predict(test_set)\n",
    "y_pred_labels = np.argmax(y_pred, axis=1)\n",
    "y_true_labels = test_set.classes\n",
    "\n",
    "# Create confusion matrix\n",
    "cm = confusion_matrix(y_true_labels, y_pred_labels)\n",
    "\n",
    "# Visualize confusion matrix using heatmap\n",
    "sns.heatmap(cm, annot=True, cmap='Blues')\n",
    "plt.xlabel('Predicted Labels')\n",
    "plt.ylabel('True Labels')\n",
    "plt.show()"
   ]
  },
  {
   "cell_type": "code",
   "execution_count": null,
   "metadata": {},
   "outputs": [],
   "source": [
    "\n"
   ]
  },
  {
   "cell_type": "code",
   "execution_count": null,
   "metadata": {},
   "outputs": [],
   "source": [
    "import matplotlib.pyplot as plt"
   ]
  }
 ],
 "metadata": {
  "accelerator": "GPU",
  "colab": {
   "provenance": []
  },
  "gpuClass": "standard",
  "kernelspec": {
   "display_name": "Python 3 (ipykernel)",
   "language": "python",
   "name": "python3"
  },
  "language_info": {
   "codemirror_mode": {
    "name": "ipython",
    "version": 3
   },
   "file_extension": ".py",
   "mimetype": "text/x-python",
   "name": "python",
   "nbconvert_exporter": "python",
   "pygments_lexer": "ipython3",
   "version": "3.7.16"
  }
 },
 "nbformat": 4,
 "nbformat_minor": 1
}
